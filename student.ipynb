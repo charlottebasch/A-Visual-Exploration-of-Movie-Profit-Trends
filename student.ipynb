{
 "cells": [
  {
   "cell_type": "markdown",
   "metadata": {},
   "source": [
    "# A Visual Exploration of Movie Profit Trends\n",
    "- Module 1 Project by Charlotte Basch with Rachel Beery\n",
    "- https://github.com/charlottebasch/A-Visual-Exploration-of-Movie-Profit-Trends"
   ]
  },
  {
   "cell_type": "markdown",
   "metadata": {},
   "source": [
    "#  Introduction"
   ]
  },
  {
   "cell_type": "markdown",
   "metadata": {},
   "source": [
    "&nbsp; &nbsp; &nbsp;Before the events of the Coronavirus pandemic, the film industry was a tremendously profitable business. In <a href=\"https://www.billboard.com/articles/news/8547827/2019-global-box-office-revenue-hit-record-425b-despite-4-percent-dip-in-us#:~:text=Global%20box%20office%20revenue%20hit%20a%20record%20%2442.5%20billion%20in,%2411.88%20billion%2C%20according%20to%20Comscore.\" target=\"_blank\">2019</a>, global box office revenue reached 42.5 billion dollars. In this project we explored data about movie production from 2010 to 2018 using pandas to work with datasets and make visualizations. This project contains data we were given for the module one project in order to make recommendations to Microsoft if they were considering going into the movie business. We were provided with datasets from IMDB, TMDb, and The Numbers. These datasets provided information on movie titles, years, runtime, genres, budgets, profits, and other related variables. The data also contained audience ratings. We focused on three questions about what factors are related to film grosses. "
   ]
  },
  {
   "cell_type": "markdown",
   "metadata": {},
   "source": [
    "## Questions:\n",
    "- Do IMDB user ratings relate to profit or budget?\n",
    "- What genres are the most profitable?\n",
    "- Does runtime affect movie gross?"
   ]
  },
  {
   "cell_type": "markdown",
   "metadata": {},
   "source": [
    "#  Data Cleaning"
   ]
  },
  {
   "cell_type": "markdown",
   "metadata": {},
   "source": [
    "We began by combining the datasets in a way that allowed us to answer the questions we intended to explore. "
   ]
  },
  {
   "cell_type": "code",
   "execution_count": null,
   "metadata": {
    "ExecuteTime": {
     "end_time": "2021-02-19T03:13:08.834735Z",
     "start_time": "2021-02-19T03:12:52.797Z"
    }
   },
   "outputs": [],
   "source": [
    "import pandas as pd\n",
    "import seaborn as sns\n",
    "import numpy as np\n",
    "import matplotlib.pyplot as plt\n",
    "import plotly.express as px"
   ]
  },
  {
   "cell_type": "code",
   "execution_count": null,
   "metadata": {
    "ExecuteTime": {
     "end_time": "2021-02-19T03:13:08.837738Z",
     "start_time": "2021-02-19T03:12:52.805Z"
    }
   },
   "outputs": [],
   "source": [
    "#Import data from imdb, tmdb, and tn\n",
    "pd.set_option(\"display.max_rows\", None, \"display.max_columns\", None)\n",
    "imdb_title_basics = pd.read_csv(r\"zippedData\\imdb.title.basics.csv.gz\")\n",
    "imdb_title_ratings = pd.read_csv(r\"zippedData\\imdb.title.ratings.csv.gz\")\n",
    "tmdb_movies = pd.read_csv(r\"zippedData\\tmdb.movies.csv.gz\")\n",
    "tn_movie_budgets = pd.read_csv(r\"zippedData\\tn.movie_budgets.csv.gz\")"
   ]
  },
  {
   "cell_type": "markdown",
   "metadata": {},
   "source": [
    "## IMDB"
   ]
  },
  {
   "cell_type": "code",
   "execution_count": null,
   "metadata": {
    "ExecuteTime": {
     "end_time": "2021-02-19T03:13:08.842737Z",
     "start_time": "2021-02-19T03:12:52.815Z"
    },
    "scrolled": false
   },
   "outputs": [],
   "source": [
    "display(imdb_title_basics.head(10))"
   ]
  },
  {
   "cell_type": "code",
   "execution_count": null,
   "metadata": {
    "ExecuteTime": {
     "end_time": "2021-02-19T03:13:08.845735Z",
     "start_time": "2021-02-19T03:12:52.822Z"
    },
    "scrolled": true
   },
   "outputs": [],
   "source": [
    "#Fill the missing runtime values with the median to preserve the distriibution of runtimes \n",
    "imdb_title_basics[\"runtime_minutes\"] = imdb_title_basics[\"runtime_minutes\"].fillna(imdb_title_basics[\"runtime_minutes\"].median())\n",
    "\n",
    "#Fill missing values with 'missing' to indicate that they are gone.\n",
    "imdb_title_basics[\"genres\"] = imdb_title_basics[\"genres\"].fillna(\"Missing\")\n",
    "imdb_title_basics[\"original_title\"] = imdb_title_basics[\"original_title\"].fillna(\"Missing\")\n",
    "\n",
    "display(imdb_title_ratings.head(10))"
   ]
  },
  {
   "cell_type": "code",
   "execution_count": null,
   "metadata": {
    "ExecuteTime": {
     "end_time": "2021-02-19T03:13:08.848735Z",
     "start_time": "2021-02-19T03:12:52.830Z"
    },
    "scrolled": false
   },
   "outputs": [],
   "source": [
    "#Join together titles and user ratings on imdb movie id\n",
    "titles_with_ratings = imdb_title_basics.join(imdb_title_ratings.set_index(\"tconst\"), on=\"tconst\", how=\"right\")\n",
    "\n",
    "display(titles_with_ratings.head())"
   ]
  },
  {
   "cell_type": "markdown",
   "metadata": {},
   "source": [
    "## TMDb and The Numbers"
   ]
  },
  {
   "cell_type": "code",
   "execution_count": null,
   "metadata": {
    "ExecuteTime": {
     "end_time": "2021-02-19T03:13:08.850734Z",
     "start_time": "2021-02-19T03:12:52.836Z"
    },
    "scrolled": true
   },
   "outputs": [],
   "source": [
    "#Get rid of unamed column \n",
    "tmdb_movies = tmdb_movies.drop(columns=[\"Unnamed: 0\"])\n",
    "\n",
    "#Categorize movies by year instead of date\n",
    "tmdb_movies[\"release_date\"] = tmdb_movies[\"release_date\"].str[:4]\n",
    "tn_movie_budgets[\"release_date\"] = tn_movie_budgets[\"release_date\"].str[-4:]\n",
    "\n",
    "#Rename the title column to aid merging \n",
    "tmdb_movies.rename(columns={\"title\": \"movie\"}, inplace=True)\n",
    "\n",
    "display(tmdb_movies.head())\n",
    "display(tn_movie_budgets.head())"
   ]
  },
  {
   "cell_type": "code",
   "execution_count": null,
   "metadata": {
    "ExecuteTime": {
     "end_time": "2021-02-19T03:13:08.853734Z",
     "start_time": "2021-02-19T03:12:52.844Z"
    }
   },
   "outputs": [],
   "source": [
    "#Join together tmdb genre information with movie budgets based on movie name\n",
    "budgets_and_ratings = tn_movie_budgets.merge(tmdb_movies, on=\"movie\", how=\"inner\")\n",
    "\n",
    "#Drop repeated columns\n",
    "budgets_and_ratings = budgets_and_ratings.drop(columns=[\"id_x\", \"id_y\", \"genre_ids\"])\n",
    "\n",
    "#Make sure movies are correct by matching release year \n",
    "budgets_and_ratings = budgets_and_ratings.loc[budgets_and_ratings['release_date_x'] == budgets_and_ratings['release_date_y']]"
   ]
  },
  {
   "cell_type": "code",
   "execution_count": null,
   "metadata": {
    "ExecuteTime": {
     "end_time": "2021-02-19T03:13:08.858735Z",
     "start_time": "2021-02-19T03:12:52.854Z"
    },
    "scrolled": true
   },
   "outputs": [],
   "source": [
    "#Now that we've verified the movies are correct, drop the repeated year column\n",
    "budgets_and_ratings = budgets_and_ratings.drop(columns=[\"release_date_y\"])\n",
    "\n",
    "#Rename the remaining year column\n",
    "budgets_and_ratings.rename(columns={\"release_date_x\": \"year\"}, inplace=True)\n",
    "\n",
    "display(budgets_and_ratings.head())"
   ]
  },
  {
   "cell_type": "code",
   "execution_count": null,
   "metadata": {
    "ExecuteTime": {
     "end_time": "2021-02-19T03:13:08.861733Z",
     "start_time": "2021-02-19T03:12:52.862Z"
    }
   },
   "outputs": [],
   "source": [
    "#Rename column to aid with merging\n",
    "titles_with_ratings.rename(columns={\"original_title\": \"movie\"}, inplace=True)\n",
    "\n",
    "#Merge budget and genre information with imdb user ratings based on movie title\n",
    "budgets_and_ratings_with_imdb = budgets_and_ratings.merge(titles_with_ratings, on=\"movie\", how=\"inner\")\n",
    "\n",
    "#Drop unnecessary columns\n",
    "budgets_and_ratings_with_imdb = budgets_and_ratings_with_imdb.drop(columns=[\"tconst\"])\n",
    "budgets_and_ratings_with_imdb.drop_duplicates(keep=\"first\", inplace=True) \n",
    "\n",
    "display(budgets_and_ratings_with_imdb.head())"
   ]
  },
  {
   "cell_type": "code",
   "execution_count": null,
   "metadata": {
    "ExecuteTime": {
     "end_time": "2021-02-19T03:13:08.864735Z",
     "start_time": "2021-02-19T03:12:52.871Z"
    },
    "scrolled": false
   },
   "outputs": [],
   "source": [
    "#Make the year a number so it can be compared\n",
    "budgets_and_ratings_with_imdb = budgets_and_ratings_with_imdb.astype({'year': 'float64'})\n",
    "\n",
    "#Make sure the years match on movies with the same title\n",
    "budgets_and_ratings_with_imdb = budgets_and_ratings_with_imdb.loc[budgets_and_ratings_with_imdb['year'] == budgets_and_ratings_with_imdb['start_year']]\n",
    "\n",
    "#Get rid of all irrelevant columns\n",
    "budgets_and_ratings_with_imdb = budgets_and_ratings_with_imdb.drop(columns=[\"start_year\", \"original_language\", \n",
    "                                                                            \"popularity\", \"vote_average\", \"vote_count\",\n",
    "                                                                            \"original_title\", \"primary_title\"])\n",
    "\n",
    "#Make sure only unqiue movies are in the dataset\n",
    "movies = budgets_and_ratings_with_imdb.drop_duplicates(subset=[\"year\", \"movie\"], keep=\"first\")\n",
    "\n",
    "display(movies.head())"
   ]
  },
  {
   "cell_type": "markdown",
   "metadata": {},
   "source": [
    "## Clean the Final Dataset"
   ]
  },
  {
   "cell_type": "markdown",
   "metadata": {},
   "source": [
    "In order to make visual exploration of our data easier, we must modify the form of some of our final variables.\n",
    "- Our monetary variables are not in the correct data form and since we are working with such larger amounts of money, our visuals will be more interpretable if we scale down the numbers.\n",
    "- Right now our movie genres are in a list, but it will be much simpler for each movie to be classified by whether it falls in each genre given that movies can be examples of more than one genre. "
   ]
  },
  {
   "cell_type": "code",
   "execution_count": null,
   "metadata": {
    "ExecuteTime": {
     "end_time": "2021-02-19T03:13:08.866732Z",
     "start_time": "2021-02-19T03:12:52.879Z"
    }
   },
   "outputs": [],
   "source": [
    "#Change budget, gross, and year data into the correct data form and convert the \n",
    "#monetary values them to a measure of 'millions of dollars'\n",
    "movies = movies.astype({\"year\": \"int32\"})\n",
    "cols = [\"production_budget\", \"domestic_gross\", \"worldwide_gross\"]\n",
    "for col in cols:\n",
    "    movies[col] = movies[col].str[1:]\n",
    "    movies[col] = movies[col].replace(',','', regex=True)\n",
    "    movies = movies.astype({col: \"float64\"})\n",
    "    movies[col] = movies[col]/1000000"
   ]
  },
  {
   "cell_type": "code",
   "execution_count": null,
   "metadata": {
    "ExecuteTime": {
     "end_time": "2021-02-19T03:13:08.869733Z",
     "start_time": "2021-02-19T03:12:52.920Z"
    }
   },
   "outputs": [],
   "source": [
    "#Create a list of all genres and restructure \n",
    "values = movies[\"genres\"].value_counts()\n",
    "values_list = list(values.index)\n",
    "genres_list = []\n",
    "for entry in values_list:\n",
    "    genres = entry.split(\",\")\n",
    "    for genre in genres:\n",
    "        if genre not in genres_list:\n",
    "            genres_list.append(genre)\n",
    "\n",
    "#Create new columns to indicate which genres each movie falls into \n",
    "for genre in genres_list:\n",
    "    movies[genre] = movies[\"genres\"].str.contains(genre)"
   ]
  },
  {
   "cell_type": "code",
   "execution_count": null,
   "metadata": {
    "ExecuteTime": {
     "end_time": "2021-02-19T03:13:08.872737Z",
     "start_time": "2021-02-19T03:12:52.944Z"
    },
    "scrolled": false
   },
   "outputs": [],
   "source": [
    "display(movies.head())"
   ]
  },
  {
   "cell_type": "markdown",
   "metadata": {},
   "source": [
    "#  Questions"
   ]
  },
  {
   "cell_type": "markdown",
   "metadata": {},
   "source": [
    "## Do IMDB user ratings relate to profit or budget?"
   ]
  },
  {
   "cell_type": "markdown",
   "metadata": {},
   "source": [
    "While there are certainly benefits to producing a movie people generally enjoy, it is unclear if opt-in online ratings from websites such as IMDB offer any kind of actionable insight into making movies more people will enjoy and therefore pay to see. We looked to see there was any correlation between average IMDB ratings, the number of IMDB ratings for a movie, and its budget or profits. Next we looked at whether there was a graphical relationship between the worldwide gross and average IMDB rating. "
   ]
  },
  {
   "cell_type": "markdown",
   "metadata": {},
   "source": [
    "### Correlation"
   ]
  },
  {
   "cell_type": "code",
   "execution_count": null,
   "metadata": {
    "ExecuteTime": {
     "end_time": "2021-02-19T03:13:08.875733Z",
     "start_time": "2021-02-19T03:12:52.959Z"
    }
   },
   "outputs": [],
   "source": [
    "#Get correlations for imdb ratings data and production data\n",
    "movies_subset = movies[[\"production_budget\", \"domestic_gross\", \n",
    "                \"worldwide_gross\", \"averagerating\", \"numvotes\"]]\n",
    "corr_subset = movies_subset.copy()\n",
    "corr = corr_subset.corr()"
   ]
  },
  {
   "cell_type": "code",
   "execution_count": null,
   "metadata": {
    "ExecuteTime": {
     "end_time": "2021-02-19T03:13:08.877732Z",
     "start_time": "2021-02-19T03:12:52.968Z"
    },
    "scrolled": true
   },
   "outputs": [],
   "source": [
    "#Create a heatmap to display the correlations \n",
    "fig, ax = plt.subplots(figsize=(8,8))\n",
    "mask = np.triu(np.ones_like(corr, dtype=np.bool))\n",
    "labels = [\"Production Budget\", \"Domestic Gross\", \"Worldwide Gross\", \"Average IMDB User Rating\", \n",
    "          \"Number of IMDB Ratings\"]\n",
    "sns.heatmap(corr, mask=mask, square=True, annot=True, cmap=\"YlGnBu\", xticklabels=labels, yticklabels=labels)\n",
    "ax.patch.set_edgecolor('black')  \n",
    "ax.patch.set_linewidth('1')\n",
    "ax.set_title(\"Movie Production and Audience Rating Correlations\", fontsize=15, fontfamily=\"serif\");"
   ]
  },
  {
   "cell_type": "markdown",
   "metadata": {},
   "source": [
    "- As can be reasonably expected, the only strong correlations were between the financial variables.\n",
    "- There was a moderate correlation between the number of ratings a movie had and its gross. This makes sense as more people saw these movies.\n",
    "- There is also a moderate correlation between the number of reviews and the budget. Given that a movie's budget is fairly strongly related to the gross, this is again unsurprising.\n",
    "- The correlations between the average rating and both gross and budget is fairly weak, indicating that these reviews are perhaps not a good predictor of gross. "
   ]
  },
  {
   "cell_type": "markdown",
   "metadata": {},
   "source": [
    "### Scatterplot"
   ]
  },
  {
   "cell_type": "code",
   "execution_count": null,
   "metadata": {
    "ExecuteTime": {
     "end_time": "2021-02-19T03:13:08.880735Z",
     "start_time": "2021-02-19T03:12:52.983Z"
    },
    "scrolled": false
   },
   "outputs": [],
   "source": [
    "# answering the question \"Does IMDb rating predict profitability?\" via scatterplot\"\n",
    "\n",
    "figimdb = px.scatter(movies, x=\"averagerating\", y=\"worldwide_gross\", trendline=\"lowess\",\n",
    "                    labels={\n",
    "                        \"averagerating\": \"Average IMDb Rating (0-10)\",\n",
    "                        \"worldbwide_gross\": \"Worldwide Gross Profits\"\n",
    "                        \n",
    "                    },\n",
    "                    title=\"Worldwide Grossing by Average IMDb Rating\")\n",
    "figimdb.update_layout(\n",
    "    title={\n",
    "        'y': 0.9,\n",
    "        'x':0.5,\n",
    "        'xanchor': 'center',\n",
    "        'yanchor': 'top'\n",
    "    })\n",
    "figimdb.show()"
   ]
  },
  {
   "cell_type": "markdown",
   "metadata": {},
   "source": [
    "- While there is a slight positive trend in this data, the wide spread of points does not indicate a clear relationship.\n",
    "- Most points are fairly low regardless of rating, with a smaller number of movies at the higher ratings with large grosses may explain the small positive relationship."
   ]
  },
  {
   "cell_type": "markdown",
   "metadata": {},
   "source": [
    "### Conclusion"
   ]
  },
  {
   "cell_type": "markdown",
   "metadata": {},
   "source": [
    "- Online rating systems such as IMDB likely do not accurately reflect the viability of a movie.\n",
    "- This is a small sample of people who chose to rate movies and their enjoyment may not reflect the spending preferences of the general public. "
   ]
  },
  {
   "cell_type": "markdown",
   "metadata": {},
   "source": [
    "## What genres are the most profitable?"
   ]
  },
  {
   "cell_type": "markdown",
   "metadata": {},
   "source": [
    "Genre is undoubtedly an important factor in a movie's profitability. When deciding what type of movies to make, it may be valuable to know which genres tend to make the most money.   "
   ]
  },
  {
   "cell_type": "markdown",
   "metadata": {},
   "source": [
    "- First we must get the totals and medians for each genre for domestic gross, international gross, and budget. \n",
    "- We choose the median to avoid the outsized influence of movie series that generate great sums of money but are not necessarily representative of the genre's earning potential. "
   ]
  },
  {
   "cell_type": "code",
   "execution_count": null,
   "metadata": {
    "ExecuteTime": {
     "end_time": "2021-02-19T03:13:08.882733Z",
     "start_time": "2021-02-19T03:12:53.032Z"
    }
   },
   "outputs": [],
   "source": [
    "#Get the totals and averages for the financial variables\n",
    "world_values = [movies[movies[genre] == True][\"worldwide_gross\"].sum() for genre in genres_list]\n",
    "dom_values = [movies[movies[genre] == True][\"domestic_gross\"].sum() for genre in genres_list]\n",
    "cost_values = [movies[movies[genre] == True][\"production_budget\"].sum() for genre in genres_list]\n",
    "cost_medians = [movies[movies[genre] == True][\"production_budget\"].median() for genre in genres_list]\n",
    "dom_medians = [movies[movies[genre] == True][\"domestic_gross\"].median() for genre in genres_list]\n",
    "world_medians = [movies[movies[genre] == True][\"worldwide_gross\"].median() for genre in genres_list]"
   ]
  },
  {
   "cell_type": "code",
   "execution_count": null,
   "metadata": {
    "ExecuteTime": {
     "end_time": "2021-02-19T03:13:08.886744Z",
     "start_time": "2021-02-19T03:12:53.046Z"
    },
    "scrolled": true
   },
   "outputs": [],
   "source": [
    "#Create a new dataframe with the total aggregated data and one with the average data\n",
    "grosses = pd.DataFrame(list(zip(genres_list, cost_values, dom_values, world_values)), \n",
    "                       columns=[\"Genre\", \"Production Budget\", \"Domestic Gross\", \"Worldwide Gross\"])\n",
    "grosses = grosses.sort_values(by=\"Domestic Gross\", ascending=False)\n",
    "\n",
    "medians = pd.DataFrame(list(zip(genres_list, cost_medians, dom_medians, world_medians)), \n",
    "                       columns=[\"Genre\", \"Production Budget\", \"Domestic Gross\", \"Worldwide Gross\"])\n",
    "medians = medians.sort_values(by=\"Worldwide Gross\", ascending=False)\n",
    "\n",
    "#View the new dataframes\n",
    "print(\"Total Gross by Genre\")\n",
    "display(grosses.head())\n",
    "print(\"Median gross by genre\")\n",
    "display(medians.head())"
   ]
  },
  {
   "cell_type": "markdown",
   "metadata": {},
   "source": [
    "## Median Gross by Genre"
   ]
  },
  {
   "cell_type": "markdown",
   "metadata": {},
   "source": [
    "- We start by looking at the median domestic and international gross for each genre. "
   ]
  },
  {
   "cell_type": "code",
   "execution_count": null,
   "metadata": {
    "ExecuteTime": {
     "end_time": "2021-02-19T03:13:08.891734Z",
     "start_time": "2021-02-19T03:12:53.056Z"
    },
    "scrolled": true
   },
   "outputs": [],
   "source": [
    "#Create a horizontal barplot of average domestic and worldwide gross by genre\n",
    "sns.set(style=\"whitegrid\")\n",
    "\n",
    "f, ax = plt.subplots(figsize = (15,15))\n",
    "sns.set_color_codes(\"pastel\")\n",
    "sns.barplot(x=\"Worldwide Gross\", y=\"Genre\", data=medians, label=\"Worldwide\", color=\"b\")\n",
    "sns.set_color_codes(\"muted\")\n",
    "sns.barplot(x=\"Domestic Gross\", y=\"Genre\", data=medians, label=\"Domestic\", color=\"b\")\n",
    "ax.legend(ncol=2, loc=\"lower right\")\n",
    "ax.set(ylabel=\"Genre\", xlabel=\"Median Gross (Millions of Dollars)\", title=\"Movie Gross by Genre (2010-2018)\")\n",
    "sns.despine(left=True, bottom=True)\n",
    "plt.show()"
   ]
  },
  {
   "cell_type": "markdown",
   "metadata": {},
   "source": [
    "- Animation, adventure, and sci-fi movies have the highest median gross both domestically and internationally indicating that these genres retain great popularity across culture. "
   ]
  },
  {
   "cell_type": "markdown",
   "metadata": {},
   "source": [
    "## Yearly Gross"
   ]
  },
  {
   "cell_type": "markdown",
   "metadata": {},
   "source": [
    "- While the visual above is very compelling, it is important to look at each genre over time to make sure these top genres are not on the downswing. \n",
    "- Therefore we will get the total gross for each "
   ]
  },
  {
   "cell_type": "code",
   "execution_count": null,
   "metadata": {
    "ExecuteTime": {
     "end_time": "2021-02-19T03:13:08.894733Z",
     "start_time": "2021-02-19T03:12:53.065Z"
    }
   },
   "outputs": [],
   "source": [
    "#Get a list of all years\n",
    "years = list(movies[\"year\"].value_counts().index)\n",
    "\n",
    "#Sort the years\n",
    "years.sort()\n",
    "\n",
    "#Generate the total by genre for each year\n",
    "genre_cols = []\n",
    "year_cols = []\n",
    "yearly_total_cols = []\n",
    "for genre in genres_list:\n",
    "    for year in years:\n",
    "        #We \n",
    "        yearly_total = movies[(movies[genre] == True) & (movies[\"year\"] == year)][\"worldwide_gross\"].sum()\n",
    "        genre_cols.append(genre)\n",
    "        year_cols.append(year)\n",
    "        yearly_total_cols.append(yearly_total)\n",
    "\n",
    "#Create a new dataframe based on the yearly data\n",
    "yearly_gross = pd.DataFrame(list(zip(genre_cols, year_cols, yearly_total_cols)), \n",
    "                                columns=[\"Genre\", \"Year\", \"Yearly Gross\"])\n",
    "\n",
    "display(yearly_gross.head())"
   ]
  },
  {
   "cell_type": "code",
   "execution_count": null,
   "metadata": {
    "ExecuteTime": {
     "end_time": "2021-02-19T03:13:08.896732Z",
     "start_time": "2021-02-19T03:12:53.094Z"
    },
    "scrolled": true
   },
   "outputs": [],
   "source": [
    "#Create a plot for each genre showing yearly gross for the stated years\n",
    "g = sns.lmplot(x=\"Year\", y=\"Yearly Gross\", col=\"Genre\", hue=\"Genre\", data=yearly_gross,\n",
    "           col_wrap=7, palette=\"muted\", height=3)\n",
    "fig = g.fig\n",
    "axes = fig.get_axes()\n",
    "fig.suptitle(\"Yearly Gross by Genre In Millions (2010-2018)\", y=1.05, fontsize=20);"
   ]
  },
  {
   "cell_type": "markdown",
   "metadata": {},
   "source": [
    "- Action, adventure, and sci-fi are the genres most on the rise, possibly owing to the rise of franchises such as the Marvel Cinematic Universe and the Hunger Games during this time period.  "
   ]
  },
  {
   "cell_type": "markdown",
   "metadata": {},
   "source": [
    "## Number of Movies Made by Genre"
   ]
  },
  {
   "cell_type": "markdown",
   "metadata": {},
   "source": [
    "- We can also examine the cost and profit of genres in relation to how many movies of each type were made. "
   ]
  },
  {
   "cell_type": "code",
   "execution_count": null,
   "metadata": {
    "ExecuteTime": {
     "end_time": "2021-02-19T03:13:08.899735Z",
     "start_time": "2021-02-19T03:12:53.112Z"
    }
   },
   "outputs": [],
   "source": [
    "#Count the number of movies of each type\n",
    "counts = []\n",
    "for genre in genres_list:\n",
    "    counts.append(movies[genre].value_counts().loc[True])\n",
    "\n",
    "#Add the counts to the grosses dataframe\n",
    "grosses[\"Number of Movies\"] = counts\n",
    "\n",
    "display(grosses.head())"
   ]
  },
  {
   "cell_type": "code",
   "execution_count": null,
   "metadata": {
    "ExecuteTime": {
     "end_time": "2021-02-19T03:13:08.908735Z",
     "start_time": "2021-02-19T03:12:53.125Z"
    },
    "scrolled": true
   },
   "outputs": [],
   "source": [
    "#Create a scatterplot compairing budget and worldwide gross by genre, displaying \n",
    "#the number of movies of each genre that were made\n",
    "fig = px.scatter(grosses, x=\"Production Budget\", y=\"Worldwide Gross\",\n",
    "                 size=\"Number of Movies\", color=\"Genre\",\n",
    "                 hover_name=\"Genre\", log_x=True, size_max=60)\n",
    "fig.update_layout(\n",
    "    title={\n",
    "        'text': \"Number of Movies per Genre\",\n",
    "        'x':0.5,\n",
    "        'xanchor': 'center',\n",
    "        'yanchor': 'top'},\n",
    "    xaxis_title=\"Production Budget (Millions of Dollars)\",\n",
    "    yaxis_title=\"Worldwide Gross (Millions of Dollars)\")\n",
    "fig.show()"
   ]
  },
  {
   "cell_type": "markdown",
   "metadata": {},
   "source": [
    "## Conclusion"
   ]
  },
  {
   "cell_type": "markdown",
   "metadata": {},
   "source": [
    " - Making action, adventure, animation, and sci-fi movies increases the likelihood of making large profits. However multiple other genres are also continuing to bring in impressive box offices. \n",
    " - Certain genres, such as sci-fi can make similar profits and use similar budgets as other genres, such as animation, while making fewer movies. \n",
    " - While we cannot choose one strategy as superior, it is worth considering whether money should be put towards a few films or many. "
   ]
  },
  {
   "cell_type": "markdown",
   "metadata": {},
   "source": [
    "## Does runtime affect movie gross?"
   ]
  },
  {
   "cell_type": "code",
   "execution_count": null,
   "metadata": {
    "ExecuteTime": {
     "end_time": "2021-02-19T03:13:08.911731Z",
     "start_time": "2021-02-19T03:12:53.137Z"
    },
    "scrolled": true
   },
   "outputs": [],
   "source": [
    "#Create a scatterplot for runtime versus domestic and international gross\n",
    "plt.figure(figsize=(10, 8))\n",
    "fig, (ax1, ax2)  = plt.subplots(1, 2, sharey=True)\n",
    "ax1.scatter(movies[\"runtime_minutes\"], movies[\"domestic_gross\"])\n",
    "ax1.set(title=\"Domestic Gross\", xlabel=\"Runtime (Minutes)\", ylabel=\"Domestic Gross (Millions of Dollars)\")\n",
    "ax2.scatter(movies[\"runtime_minutes\"], movies[\"worldwide_gross\"])\n",
    "ax1.set(title=\"Domestic Gross\", xlabel=\"Runtime (Minutes)\", ylabel=\"Gross (Millions of Dollars)\")\n",
    "ax2.set(title=\"Worldwide Gross\", xlabel= \"Runtime (Minutes)\")\n",
    "fig.suptitle(\"Gross by Runtime\", y=1.05)"
   ]
  },
  {
   "cell_type": "markdown",
   "metadata": {},
   "source": [
    "Recommendation: Once runtime hits approximately 75 minutes, it is not an important predictor of profit."
   ]
  },
  {
   "cell_type": "markdown",
   "metadata": {},
   "source": [
    "# Conclusion"
   ]
  },
  {
   "cell_type": "markdown",
   "metadata": {},
   "source": [
    "- Online rating should not be used when making decisions about budget or to predict profit. \n",
    "- Action, animation, sci-fi, and adventure movies are the most profitable genres. However smaller grossing genres still make a lot of profit. Additionally, many of these genres overlap so the profits observed are not completely additive. \n",
    "- Runtime is not related to movie gross unless it is unusually short. "
   ]
  },
  {
   "cell_type": "markdown",
   "metadata": {},
   "source": [
    "The movie business continues to expand and by examining the data and isolating the relevant factors, Microsoft would be able to maximize their profits in this kind of endeavor. "
   ]
  }
 ],
 "metadata": {
  "kernelspec": {
   "display_name": "learn-env",
   "language": "python",
   "name": "learn-env"
  },
  "language_info": {
   "codemirror_mode": {
    "name": "ipython",
    "version": 3
   },
   "file_extension": ".py",
   "mimetype": "text/x-python",
   "name": "python",
   "nbconvert_exporter": "python",
   "pygments_lexer": "ipython3",
   "version": "3.7.9"
  },
  "toc": {
   "base_numbering": 1,
   "nav_menu": {},
   "number_sections": true,
   "sideBar": true,
   "skip_h1_title": false,
   "title_cell": "Table of Contents",
   "title_sidebar": "Contents",
   "toc_cell": false,
   "toc_position": {},
   "toc_section_display": true,
   "toc_window_display": false
  },
  "varInspector": {
   "cols": {
    "lenName": 16,
    "lenType": 16,
    "lenVar": 40
   },
   "kernels_config": {
    "python": {
     "delete_cmd_postfix": "",
     "delete_cmd_prefix": "del ",
     "library": "var_list.py",
     "varRefreshCmd": "print(var_dic_list())"
    },
    "r": {
     "delete_cmd_postfix": ") ",
     "delete_cmd_prefix": "rm(",
     "library": "var_list.r",
     "varRefreshCmd": "cat(var_dic_list()) "
    }
   },
   "types_to_exclude": [
    "module",
    "function",
    "builtin_function_or_method",
    "instance",
    "_Feature"
   ],
   "window_display": false
  },
  "widgets": {
   "application/vnd.jupyter.widget-state+json": {
    "state": {},
    "version_major": 2,
    "version_minor": 0
   }
  }
 },
 "nbformat": 4,
 "nbformat_minor": 2
}
